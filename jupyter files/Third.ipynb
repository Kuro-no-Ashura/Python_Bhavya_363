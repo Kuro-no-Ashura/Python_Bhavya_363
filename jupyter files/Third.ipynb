{
 "cells": [
  {
   "cell_type": "code",
   "execution_count": 1,
   "id": "04c707e8",
   "metadata": {},
   "outputs": [
    {
     "name": "stdout",
     "output_type": "stream",
     "text": [
      "1\n",
      "2\n",
      "3\n",
      "4\n"
     ]
    }
   ],
   "source": [
    "for i in range(1,5):\n",
    "    print(i)"
   ]
  },
  {
   "cell_type": "code",
   "execution_count": null,
   "id": "8a3b8732",
   "metadata": {},
   "outputs": [
    {
     "name": "stdout",
     "output_type": "stream",
     "text": [
      "['abcd', 786, 2.23, 'john', 79.2]\n",
      "abcd\n",
      "[786, 2.23]\n",
      "[2.23, 'john', 79.2]\n",
      "[123, 'John', 123, 'John']\n",
      "['abcd', 786, 2.23, 'john', 79.2, 123, 'John']\n"
     ]
    }
   ],
   "source": [
    "#list**\n",
    "list=['abcd', 786, 2.23, 'john', 79.2]\n",
    "tinylist=[123,'John']\n",
    "\n",
    "print(list)                  #Prints complete list\n",
    "print(list[0])               #Prints first element of the list\n",
    "print(list[1:3])             #Prints elements from 2nd till 3rd\n",
    "print(list[2:])              #Prints starting from 2nd\n",
    "print(tinylist * 2)          #Prints list two times\n",
    "print(list + tinylist)       #Prints concatenated list"
   ]
  },
  {
   "cell_type": "code",
   "execution_count": 3,
   "id": "0841c994",
   "metadata": {},
   "outputs": [
    {
     "name": "stdout",
     "output_type": "stream",
     "text": [
      "0\n",
      "1\n",
      "2\n",
      "3\n",
      "4\n"
     ]
    }
   ],
   "source": [
    "#range(start,stop,step\n",
    "#start - starting position(optional,default-0)\n",
    "#stop - ending position(mandatory)\n",
    "#step-to specify increment (optional,default:1)\n",
    "for i in range(5):\n",
    "    print(i)"
   ]
  },
  {
   "cell_type": "code",
   "execution_count": 4,
   "id": "273cf83f",
   "metadata": {},
   "outputs": [
    {
     "name": "stdout",
     "output_type": "stream",
     "text": [
      "Apple is Green\n"
     ]
    }
   ],
   "source": [
    "b=\"   Apple is Green  \"\n",
    "print(b.strip()) #removes unnecessary spaces at the start and end of string"
   ]
  },
  {
   "cell_type": "code",
   "execution_count": 5,
   "id": "c91bdd5f",
   "metadata": {},
   "outputs": [
    {
     "name": "stdout",
     "output_type": "stream",
     "text": [
      "Jello World!\n"
     ]
    }
   ],
   "source": [
    "a=\"Hello World!\" #Replace String\n",
    "print(a.replace(\"H\",\"J\"))"
   ]
  },
  {
   "cell_type": "code",
   "execution_count": 6,
   "id": "ee4a1e02",
   "metadata": {},
   "outputs": [
    {
     "name": "stdout",
     "output_type": "stream",
     "text": [
      "['Hello', 'World!!']\n"
     ]
    }
   ],
   "source": [
    "#Split String\n",
    "a=\"Hello World!!\"\n",
    "b=a.split()\n",
    "print(b)"
   ]
  },
  {
   "cell_type": "code",
   "execution_count": 7,
   "id": "eccacbd0",
   "metadata": {},
   "outputs": [
    {
     "name": "stdout",
     "output_type": "stream",
     "text": [
      "Hello World!\n"
     ]
    }
   ],
   "source": [
    "a=\"Hello\"\n",
    "b=\" World!\"\n",
    "c=a+b\n",
    "print(c)"
   ]
  },
  {
   "cell_type": "code",
   "execution_count": 9,
   "id": "90931956",
   "metadata": {},
   "outputs": [
    {
     "name": "stdout",
     "output_type": "stream",
     "text": [
      "My name is Ayush,I am 21 years old\n"
     ]
    }
   ],
   "source": [
    "#Format String\n",
    "age=21\n",
    "txt=f\"My name is Ayush,I am {age} years old\"\n",
    "#f is used to add integer to string , it came to python in the version 3.6\n",
    "print(txt)"
   ]
  },
  {
   "cell_type": "code",
   "execution_count": 10,
   "id": "868e4d17",
   "metadata": {},
   "outputs": [
    {
     "name": "stdout",
     "output_type": "stream",
     "text": [
      "True\n",
      "True\n",
      "False\n"
     ]
    }
   ],
   "source": [
    "#Booleans\n",
    "#Evaluate values and variables\n",
    "print(bool(\"Hello\"))\n",
    "print(bool(25))\n",
    "print(bool(0))"
   ]
  },
  {
   "cell_type": "code",
   "execution_count": 11,
   "id": "35f9a916",
   "metadata": {},
   "outputs": [
    {
     "name": "stdout",
     "output_type": "stream",
     "text": [
      "False\n"
     ]
    }
   ],
   "source": [
    "#Functions returning boolean \n",
    "def myfunc():\n",
    "    return False\n",
    "\n",
    "print(myfunc())"
   ]
  },
  {
   "cell_type": "code",
   "execution_count": 8,
   "id": "4e9417b3",
   "metadata": {},
   "outputs": [
    {
     "name": "stdout",
     "output_type": "stream",
     "text": [
      "3\n",
      "3.3333333333333335\n"
     ]
    }
   ],
   "source": [
    "a = 10\n",
    "b = 3\n",
    "print(a//b)\n",
    "print(a/b)"
   ]
  },
  {
   "cell_type": "code",
   "execution_count": 11,
   "id": "f099e7e4-9d49-4626-9d61-90b96b58741e",
   "metadata": {},
   "outputs": [
    {
     "name": "stdout",
     "output_type": "stream",
     "text": [
      "true\n"
     ]
    }
   ],
   "source": [
    "if(3>2 or 1>8):\n",
    "    print(\"true\")\n",
    "else:\n",
    "    print(\"false\")"
   ]
  },
  {
   "cell_type": "markdown",
   "id": "d4837e47-d295-4c65-ae46-0b706e5ba972",
   "metadata": {},
   "source": [
    "Match / switch"
   ]
  },
  {
   "cell_type": "code",
   "execution_count": 40,
   "id": "d335d170-8cc9-46bd-af64-d1b581e174ce",
   "metadata": {},
   "outputs": [
    {
     "name": "stdout",
     "output_type": "stream",
     "text": [
      "NO found\n",
      "hello\n",
      "no hello\n",
      "Here no\n"
     ]
    }
   ],
   "source": [
    "for i in range(4):\n",
    "   match(i):\n",
    "       case 1:\n",
    "        print(\"hello\")\n",
    "       case 2:\n",
    "           print(\"no hello\")\n",
    "       case 3:\n",
    "           print(\"Here no\")\n",
    "       case 4:\n",
    "           print(\"Here no no\")\n",
    "     #default case\n",
    "       case _:\n",
    "        print(\"NO found\")\n"
   ]
  },
  {
   "cell_type": "markdown",
   "id": "70e59cb5-be0c-4c5a-9891-9a9c73f65ff6",
   "metadata": {},
   "source": [
    "Loops"
   ]
  },
  {
   "cell_type": "code",
   "execution_count": 45,
   "id": "9dc1155e-002b-4c3e-be1d-ccceb08e3647",
   "metadata": {},
   "outputs": [
    {
     "name": "stdout",
     "output_type": "stream",
     "text": [
      "1\n",
      "2\n",
      "3\n",
      "4\n",
      "5\n"
     ]
    }
   ],
   "source": [
    "i=1\n",
    "while i < 6:\n",
    "    print(i)\n",
    "    i+=1"
   ]
  },
  {
   "cell_type": "code",
   "execution_count": 2,
   "id": "bc2d2745-a36b-466a-9427-7689355f44da",
   "metadata": {},
   "outputs": [
    {
     "name": "stdin",
     "output_type": "stream",
     "text": [
      "Enter choice 12\n"
     ]
    },
    {
     "name": "stdout",
     "output_type": "stream",
     "text": [
      "NOPE\n"
     ]
    }
   ],
   "source": [
    "v = int(input(\"Enter choice\"))\n",
    "if 1<v<10:\n",
    "    print(\"guess\")\n",
    "else:\n",
    "    print(\"NOPE\")"
   ]
  }
 ],
 "metadata": {
  "kernelspec": {
   "display_name": "Python 3 (ipykernel)",
   "language": "python",
   "name": "python3"
  },
  "language_info": {
   "codemirror_mode": {
    "name": "ipython",
    "version": 3
   },
   "file_extension": ".py",
   "mimetype": "text/x-python",
   "name": "python",
   "nbconvert_exporter": "python",
   "pygments_lexer": "ipython3",
   "version": "3.13.5"
  }
 },
 "nbformat": 4,
 "nbformat_minor": 5
}
