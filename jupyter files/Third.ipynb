{
 "cells": [
  {
   "cell_type": "code",
   "execution_count": 1,
   "id": "04c707e8",
   "metadata": {},
   "outputs": [
    {
     "name": "stdout",
     "output_type": "stream",
     "text": [
      "1\n",
      "2\n",
      "3\n",
      "4\n"
     ]
    }
   ],
   "source": [
    "for i in range(1,5):\n",
    "    print(i)"
   ]
  },
  {
   "cell_type": "code",
   "execution_count": null,
   "id": "8a3b8732",
   "metadata": {},
   "outputs": [
    {
     "name": "stdout",
     "output_type": "stream",
     "text": [
      "['abcd', 786, 2.23, 'john', 79.2]\n",
      "abcd\n",
      "[786, 2.23]\n",
      "[2.23, 'john', 79.2]\n",
      "[123, 'John', 123, 'John']\n",
      "['abcd', 786, 2.23, 'john', 79.2, 123, 'John']\n"
     ]
    }
   ],
   "source": [
    "#list**\n",
    "list=['abcd', 786, 2.23, 'john', 79.2]\n",
    "tinylist=[123,'John']\n",
    "\n",
    "print(list)                  #Prints complete list\n",
    "print(list[0])               #Prints first element of the list\n",
    "print(list[1:3])             #Prints elements from 2nd till 3rd\n",
    "print(list[2:])              #Prints starting from 2nd\n",
    "print(tinylist * 2)          #Prints list two times\n",
    "print(list + tinylist)       #Prints concatenated list"
   ]
  },
  {
   "cell_type": "code",
   "execution_count": 3,
   "id": "0841c994",
   "metadata": {},
   "outputs": [
    {
     "name": "stdout",
     "output_type": "stream",
     "text": [
      "0\n",
      "1\n",
      "2\n",
      "3\n",
      "4\n"
     ]
    }
   ],
   "source": [
    "#range(start,stop,step\n",
    "#start - starting position(optional,default-0)\n",
    "#stop - ending position(mandatory)\n",
    "#step-to specify increment (optional,default:1)\n",
    "for i in range(5):\n",
    "    print(i)"
   ]
  },
  {
   "cell_type": "code",
   "execution_count": 4,
   "id": "273cf83f",
   "metadata": {},
   "outputs": [
    {
     "name": "stdout",
     "output_type": "stream",
     "text": [
      "Apple is Green\n"
     ]
    }
   ],
   "source": [
    "b=\"   Apple is Green  \"\n",
    "print(b.strip()) #removes unnecessary spaces at the start and end of string"
   ]
  },
  {
   "cell_type": "code",
   "execution_count": 5,
   "id": "c91bdd5f",
   "metadata": {},
   "outputs": [
    {
     "name": "stdout",
     "output_type": "stream",
     "text": [
      "Jello World!\n"
     ]
    }
   ],
   "source": [
    "a=\"Hello World!\" #Replace String\n",
    "print(a.replace(\"H\",\"J\"))"
   ]
  },
  {
   "cell_type": "code",
   "execution_count": 6,
   "id": "ee4a1e02",
   "metadata": {},
   "outputs": [
    {
     "name": "stdout",
     "output_type": "stream",
     "text": [
      "['Hello', 'World!!']\n"
     ]
    }
   ],
   "source": [
    "#Split String\n",
    "a=\"Hello World!!\"\n",
    "b=a.split()\n",
    "print(b)"
   ]
  },
  {
   "cell_type": "code",
   "execution_count": 7,
   "id": "eccacbd0",
   "metadata": {},
   "outputs": [
    {
     "name": "stdout",
     "output_type": "stream",
     "text": [
      "Hello World!\n"
     ]
    }
   ],
   "source": [
    "a=\"Hello\"\n",
    "b=\" World!\"\n",
    "c=a+b\n",
    "print(c)"
   ]
  },
  {
   "cell_type": "code",
   "execution_count": 9,
   "id": "90931956",
   "metadata": {},
   "outputs": [
    {
     "name": "stdout",
     "output_type": "stream",
     "text": [
      "My name is Ayush,I am 21 years old\n"
     ]
    }
   ],
   "source": [
    "#Format String\n",
    "age=21\n",
    "txt=f\"My name is Ayush,I am {age} years old\"\n",
    "#f is used to add integer to string , it came to python in the version 3.6\n",
    "print(txt)"
   ]
  },
  {
   "cell_type": "code",
   "execution_count": 10,
   "id": "868e4d17",
   "metadata": {},
   "outputs": [
    {
     "name": "stdout",
     "output_type": "stream",
     "text": [
      "True\n",
      "True\n",
      "False\n"
     ]
    }
   ],
   "source": [
    "#Booleans\n",
    "#Evaluate values and variables\n",
    "print(bool(\"Hello\"))\n",
    "print(bool(25))\n",
    "print(bool(0))"
   ]
  },
  {
   "cell_type": "code",
   "execution_count": 11,
   "id": "35f9a916",
   "metadata": {},
   "outputs": [
    {
     "name": "stdout",
     "output_type": "stream",
     "text": [
      "False\n"
     ]
    }
   ],
   "source": [
    "#Functions returning boolean \n",
    "def myfunc():\n",
    "    return False\n",
    "\n",
    "print(myfunc())"
   ]
  },
  {
   "cell_type": "code",
   "execution_count": 8,
   "id": "4e9417b3",
   "metadata": {},
   "outputs": [
    {
     "name": "stdout",
     "output_type": "stream",
     "text": [
      "3\n",
      "3.3333333333333335\n"
     ]
    }
   ],
   "source": [
    "a = 10\n",
    "b = 3\n",
    "print(a//b)\n",
    "print(a/b)"
   ]
  },
  {
   "cell_type": "code",
   "execution_count": 11,
   "id": "f099e7e4-9d49-4626-9d61-90b96b58741e",
   "metadata": {},
   "outputs": [
    {
     "name": "stdout",
     "output_type": "stream",
     "text": [
      "true\n"
     ]
    }
   ],
   "source": [
    "if(3>2 or 1>8):\n",
    "    print(\"true\")\n",
    "else:\n",
    "    print(\"false\")"
   ]
  },
  {
   "cell_type": "markdown",
   "id": "d4837e47-d295-4c65-ae46-0b706e5ba972",
   "metadata": {},
   "source": [
    "Match / switch"
   ]
  },
  {
   "cell_type": "code",
   "execution_count": 40,
   "id": "d335d170-8cc9-46bd-af64-d1b581e174ce",
   "metadata": {},
   "outputs": [
    {
     "name": "stdout",
     "output_type": "stream",
     "text": [
      "NO found\n",
      "hello\n",
      "no hello\n",
      "Here no\n"
     ]
    }
   ],
   "source": [
    "for i in range(4):\n",
    "   match(i):\n",
    "       case 1:\n",
    "        print(\"hello\")\n",
    "       case 2:\n",
    "           print(\"no hello\")\n",
    "       case 3:\n",
    "           print(\"Here no\")\n",
    "       case 4:\n",
    "           print(\"Here no no\")\n",
    "     #default case\n",
    "       case _:\n",
    "        print(\"NO found\")\n"
   ]
  },
  {
   "cell_type": "markdown",
   "id": "70e59cb5-be0c-4c5a-9891-9a9c73f65ff6",
   "metadata": {},
   "source": [
    "Loops"
   ]
  },
  {
   "cell_type": "code",
   "execution_count": 45,
   "id": "9dc1155e-002b-4c3e-be1d-ccceb08e3647",
   "metadata": {},
   "outputs": [
    {
     "name": "stdout",
     "output_type": "stream",
     "text": [
      "1\n",
      "2\n",
      "3\n",
      "4\n",
      "5\n"
     ]
    }
   ],
   "source": [
    "i=1\n",
    "while i < 6:\n",
    "    print(i)\n",
    "    i+=1"
   ]
  },
  {
   "cell_type": "code",
   "execution_count": 2,
   "id": "bc2d2745-a36b-466a-9427-7689355f44da",
   "metadata": {},
   "outputs": [
    {
     "name": "stdin",
     "output_type": "stream",
     "text": [
      "Enter choice 12\n"
     ]
    },
    {
     "name": "stdout",
     "output_type": "stream",
     "text": [
      "NOPE\n"
     ]
    }
   ],
   "source": [
    "v = int(input(\"Enter choice\"))\n",
    "if 1<v<10:\n",
    "    print(\"guess\")\n",
    "else:\n",
    "    print(\"NOPE\")"
   ]
  },
  {
   "cell_type": "markdown",
   "id": "6a782b01-2c8b-46b2-ae0a-43173d44abe5",
   "metadata": {},
   "source": [
    "Loops"
   ]
  },
  {
   "cell_type": "code",
   "execution_count": 3,
   "id": "b08bb701-32d0-432e-a280-5be22998aa13",
   "metadata": {},
   "outputs": [
    {
     "name": "stdout",
     "output_type": "stream",
     "text": [
      "Apple\n",
      "banana\n",
      "cherry\n"
     ]
    }
   ],
   "source": [
    "fruits = [\"Apple\" , \"banana\" , \"cherry\"]\n",
    "for x in fruits:\n",
    "    print(x)"
   ]
  },
  {
   "cell_type": "code",
   "execution_count": 4,
   "id": "6371c411-c1f2-4394-b51d-dbb42e223b54",
   "metadata": {
    "scrolled": true
   },
   "outputs": [
    {
     "name": "stdout",
     "output_type": "stream",
     "text": [
      "A\n",
      "p\n",
      "p\n",
      "l\n",
      "e\n"
     ]
    }
   ],
   "source": [
    "for x in \"Apple\":\n",
    "    print(x)\n"
   ]
  },
  {
   "cell_type": "code",
   "execution_count": 7,
   "id": "dea26a7c-2960-46f6-8c1b-75f5501154a4",
   "metadata": {
    "scrolled": true
   },
   "outputs": [
    {
     "name": "stdout",
     "output_type": "stream",
     "text": [
      "0\n",
      "1\n",
      "2\n",
      "4\n",
      "5\n",
      "6\n",
      "7\n",
      "9\n",
      "14\n",
      "19\n"
     ]
    }
   ],
   "source": [
    "for x in range(3):\n",
    "    print(x)\n",
    "for x in range(4,8):\n",
    "    print(x)\n",
    "for x in range(9,20,5):\n",
    "    print(x)"
   ]
  },
  {
   "cell_type": "code",
   "execution_count": 8,
   "id": "ce9176d4-b8d3-429b-8b42-70b56b0075b7",
   "metadata": {},
   "outputs": [
    {
     "name": "stdout",
     "output_type": "stream",
     "text": [
      "1\n",
      "2\n",
      "3\n",
      "4\n",
      "5\n",
      "i no longer\n"
     ]
    }
   ],
   "source": [
    "i=1\n",
    "while i<6:\n",
    "    print(i)\n",
    "    i+=1\n",
    "else:\n",
    "    print(\"i no longer\")"
   ]
  },
  {
   "cell_type": "markdown",
   "id": "b06af329-4fb4-4e2c-8887-3339763e350c",
   "metadata": {},
   "source": [
    "NESTED LOOP"
   ]
  },
  {
   "cell_type": "code",
   "execution_count": 9,
   "id": "b5039670-c5a4-4e1f-85ae-178286357f32",
   "metadata": {},
   "outputs": [
    {
     "name": "stdout",
     "output_type": "stream",
     "text": [
      "A Apple\n",
      "A banana\n",
      "A cherry\n",
      "B Apple\n",
      "B banana\n",
      "B cherry\n",
      "C Apple\n",
      "C banana\n",
      "C cherry\n"
     ]
    }
   ],
   "source": [
    "a = [\"A\" , \"B\" , \"C\"]\n",
    "fruits = [\"Apple\" , \"banana\" , \"cherry\"]\n",
    "for x in a:\n",
    "    for y in fruits:\n",
    "        print(x,y)"
   ]
  },
  {
   "cell_type": "code",
   "execution_count": 1,
   "id": "b6cacd31-8bad-4574-9542-21a9d762179f",
   "metadata": {},
   "outputs": [],
   "source": [
    "for x in [0,1,2,3]:\n",
    "    pass"
   ]
  },
  {
   "cell_type": "markdown",
   "id": "5dce7270-5be0-4fc7-a196-452e9fb5d1ef",
   "metadata": {},
   "source": [
    "LIST"
   ]
  },
  {
   "cell_type": "code",
   "execution_count": 3,
   "id": "092ef796-5047-4164-aa01-e708a6530716",
   "metadata": {},
   "outputs": [
    {
     "data": {
      "text/plain": [
       "['Rohan', 1, 3]"
      ]
     },
     "execution_count": 3,
     "metadata": {},
     "output_type": "execute_result"
    }
   ],
   "source": [
    "list1 = [\"Rohan\", 1, 3]\n",
    "list1"
   ]
  },
  {
   "cell_type": "markdown",
   "id": "f55c33c6-941a-4887-8a4c-c850ec0d26fa",
   "metadata": {},
   "source": [
    "#Ordered and Changebale\n",
    "#Allow Duplicable"
   ]
  },
  {
   "cell_type": "code",
   "execution_count": 24,
   "id": "15c51acb-8586-4682-bd41-bcc40fbaf5b5",
   "metadata": {},
   "outputs": [
    {
     "data": {
      "text/plain": [
       "['Rohan', 1, 3, 1, 3]"
      ]
     },
     "execution_count": 24,
     "metadata": {},
     "output_type": "execute_result"
    }
   ],
   "source": [
    "\n",
    "list1 = [\"Rohan\", 1, 3, 1, 3]\n",
    "list1"
   ]
  },
  {
   "cell_type": "code",
   "execution_count": 7,
   "id": "d3e2023a-82ba-42eb-99d5-e7e7b0e7f606",
   "metadata": {},
   "outputs": [
    {
     "name": "stdout",
     "output_type": "stream",
     "text": [
      "5\n"
     ]
    }
   ],
   "source": [
    "print(len(list1))"
   ]
  },
  {
   "cell_type": "markdown",
   "id": "f8355e5a-f260-435e-bc48-e6a01b2be142",
   "metadata": {},
   "source": [
    "#list() constreuctor"
   ]
  },
  {
   "cell_type": "code",
   "execution_count": 8,
   "id": "912c8c8a-d616-42b0-b442-cd1da2b679e8",
   "metadata": {},
   "outputs": [],
   "source": [
    "list2 = list((\"rohan\", 1,3,\"rohan\", \"apple\", \"apple\"))"
   ]
  },
  {
   "cell_type": "markdown",
   "id": "a58a1007-5609-4f18-bce3-de1e86f6ba1d",
   "metadata": {},
   "source": [
    "Access item in list"
   ]
  },
  {
   "cell_type": "code",
   "execution_count": 17,
   "id": "2e9f94a4-fd19-4c21-b61d-1f11ac4a6b12",
   "metadata": {},
   "outputs": [
    {
     "name": "stdout",
     "output_type": "stream",
     "text": [
      "Rohan\n"
     ]
    }
   ],
   "source": [
    "print(list1[0])"
   ]
  },
  {
   "cell_type": "markdown",
   "id": "0b59a086-9281-4315-bb85-0154083b4282",
   "metadata": {},
   "source": [
    "Range of Indexes"
   ]
  },
  {
   "cell_type": "code",
   "execution_count": 18,
   "id": "f2fc01f7-3a3f-4fec-91cc-e92258c5dd55",
   "metadata": {},
   "outputs": [
    {
     "name": "stdout",
     "output_type": "stream",
     "text": [
      "[3, 1, 3]\n"
     ]
    }
   ],
   "source": [
    "print(list1[2:5])"
   ]
  },
  {
   "cell_type": "code",
   "execution_count": 20,
   "id": "14d2c3f8-2d1d-4a07-bbcf-f42b2defba77",
   "metadata": {},
   "outputs": [
    {
     "name": "stdout",
     "output_type": "stream",
     "text": [
      "[1, 3, 1]\n"
     ]
    }
   ],
   "source": [
    "print(list1[-4:-1])"
   ]
  },
  {
   "cell_type": "markdown",
   "id": "5a7359ed-3a8a-4493-944f-f11a9e485df5",
   "metadata": {},
   "source": [
    "Check if item exists"
   ]
  },
  {
   "cell_type": "code",
   "execution_count": 27,
   "id": "cd6e11ba-c21e-4a48-b3b8-a17c3614896a",
   "metadata": {},
   "outputs": [
    {
     "name": "stdout",
     "output_type": "stream",
     "text": [
      "Yes\n"
     ]
    }
   ],
   "source": [
    "list1 = [\"rohan\", 1,  3, \"rohan\", \"apple\", \"apple\"]\n",
    "if \"apple\" in list1:\n",
    "    print(\"Yes\")"
   ]
  },
  {
   "cell_type": "markdown",
   "id": "92a3bef9-52ec-4e0b-a972-67fef45ac3b8",
   "metadata": {},
   "source": [
    "Change list item"
   ]
  },
  {
   "cell_type": "code",
   "execution_count": 28,
   "id": "8580725c-5142-40ec-b8a6-abf96c0d8828",
   "metadata": {},
   "outputs": [
    {
     "name": "stdout",
     "output_type": "stream",
     "text": [
      "['ram', 1, 3, 'rohan', 'apple', 'apple']\n"
     ]
    }
   ],
   "source": [
    "list1[0] = \"ram\"\n",
    "print(list1)"
   ]
  },
  {
   "cell_type": "code",
   "execution_count": 29,
   "id": "edc384d8-1c5d-420b-b324-680cf71351cd",
   "metadata": {},
   "outputs": [
    {
     "name": "stdout",
     "output_type": "stream",
     "text": [
      "['ram', 7, 2, 42, 'apple', 'apple']\n"
     ]
    }
   ],
   "source": [
    "list1[1:4] = [7, 2,42]\n",
    "print(list1)"
   ]
  },
  {
   "cell_type": "markdown",
   "id": "2552982f-6c03-426d-8aa8-e8033ff69062",
   "metadata": {},
   "source": [
    "Insert"
   ]
  },
  {
   "cell_type": "code",
   "execution_count": 43,
   "id": "47000db8-67aa-430e-a495-e731844eba39",
   "metadata": {},
   "outputs": [
    {
     "name": "stdout",
     "output_type": "stream",
     "text": [
      "['rohan', 1, 'hello', 3, 'rohan', 'apple', 'apple']\n"
     ]
    }
   ],
   "source": [
    "list1 = [\"rohan\", 1, 3, \"rohan\", \"apple\", \"apple\"]\n",
    "list1.insert(2, \"hello\")\n",
    "print(list1)"
   ]
  },
  {
   "cell_type": "markdown",
   "id": "d36cafd7-5205-46bb-895f-d74a59fabc86",
   "metadata": {},
   "source": [
    "Append"
   ]
  },
  {
   "cell_type": "code",
   "execution_count": 44,
   "id": "d72476da-935a-47f8-a938-63fc2aeb0fa1",
   "metadata": {},
   "outputs": [
    {
     "name": "stdout",
     "output_type": "stream",
     "text": [
      "['rohan', 1, 'hello', 3, 'rohan', 'apple', 'apple', 'world']\n"
     ]
    }
   ],
   "source": [
    "list1.append(\"world\")\n",
    "print(list1)"
   ]
  },
  {
   "cell_type": "markdown",
   "id": "8844ee42-dd40-44a5-8a46-3b346550dbb7",
   "metadata": {},
   "source": [
    "Extend"
   ]
  },
  {
   "cell_type": "markdown",
   "id": "1b01b3d0-fa51-4950-ae49-afe221fc9124",
   "metadata": {},
   "source": [
    "Remove"
   ]
  },
  {
   "cell_type": "code",
   "execution_count": 45,
   "id": "f27fdc4f-ee03-4f92-bf14-9496ac631f57",
   "metadata": {},
   "outputs": [
    {
     "name": "stdout",
     "output_type": "stream",
     "text": [
      "['rohan', 1, 'hello', 3, 'rohan', 'apple', 'world']\n"
     ]
    }
   ],
   "source": [
    "list1.remove(\"apple\")\n",
    "print(list1)"
   ]
  },
  {
   "cell_type": "code",
   "execution_count": 46,
   "id": "f29a68ea-5536-40db-8351-31fce0cce5b6",
   "metadata": {},
   "outputs": [
    {
     "data": {
      "text/plain": [
       "1"
      ]
     },
     "execution_count": 46,
     "metadata": {},
     "output_type": "execute_result"
    }
   ],
   "source": [
    "list1.pop(1)"
   ]
  },
  {
   "cell_type": "code",
   "execution_count": 47,
   "id": "835a6408-7178-4bb0-aa74-452fedecefa0",
   "metadata": {},
   "outputs": [
    {
     "data": {
      "text/plain": [
       "['rohan', 'hello', 3, 'rohan', 'apple', 'world']"
      ]
     },
     "execution_count": 47,
     "metadata": {},
     "output_type": "execute_result"
    }
   ],
   "source": [
    "list1"
   ]
  },
  {
   "cell_type": "code",
   "execution_count": 1,
   "id": "73621b93-5d18-49c0-834f-3154461811e1",
   "metadata": {},
   "outputs": [
    {
     "name": "stdout",
     "output_type": "stream",
     "text": [
      "['apple', 'cherry', 'banana']\n"
     ]
    }
   ],
   "source": [
    "list1 = [\"apple\",\"cherry\", \"banana\" ]\n",
    "print(list1)"
   ]
  },
  {
   "cell_type": "code",
   "execution_count": 2,
   "id": "76c31e38-b7d2-46fe-af29-3b177ff398b0",
   "metadata": {},
   "outputs": [],
   "source": [
    "del list1"
   ]
  },
  {
   "cell_type": "code",
   "execution_count": 6,
   "id": "a0981b1b-5283-4dbb-b36b-0005e28b4072",
   "metadata": {
    "scrolled": true
   },
   "outputs": [
    {
     "name": "stdout",
     "output_type": "stream",
     "text": [
      "['apple', 'cherry', 'banana']\n"
     ]
    }
   ],
   "source": [
    "print(list1)"
   ]
  },
  {
   "cell_type": "code",
   "execution_count": 7,
   "id": "86c25e04-0dd8-42c5-93fd-e10dd4766e46",
   "metadata": {},
   "outputs": [],
   "source": [
    "list1.clear()"
   ]
  },
  {
   "cell_type": "code",
   "execution_count": 8,
   "id": "a5572a5b-f9c5-40d2-a6b6-670caca64ed8",
   "metadata": {},
   "outputs": [
    {
     "name": "stdout",
     "output_type": "stream",
     "text": [
      "[]\n"
     ]
    }
   ],
   "source": [
    "print(list1)"
   ]
  },
  {
   "cell_type": "markdown",
   "id": "755bde9e-d81c-4840-8935-aa4070704c73",
   "metadata": {},
   "source": [
    "Loop List"
   ]
  },
  {
   "cell_type": "code",
   "execution_count": 5,
   "id": "b322c21c-d97b-4acd-9981-76b68dbbbeda",
   "metadata": {},
   "outputs": [
    {
     "name": "stdout",
     "output_type": "stream",
     "text": [
      "apple\n",
      "banana\n",
      "cherry\n"
     ]
    }
   ],
   "source": [
    "list2 = [\"apple\", \"banana\", \"cherry\"]\n",
    "for x in range(len(list2)):\n",
    "    print(list2[x])"
   ]
  },
  {
   "cell_type": "code",
   "execution_count": 12,
   "id": "e77db162-e32b-40f5-80c3-c2341915df35",
   "metadata": {},
   "outputs": [
    {
     "name": "stdout",
     "output_type": "stream",
     "text": [
      "apple\n",
      "banana\n",
      "cherry\n"
     ]
    }
   ],
   "source": [
    "i = 0\n",
    "while i < len(list2):\n",
    "    print(list2[i])\n",
    "    i += 1"
   ]
  },
  {
   "cell_type": "markdown",
   "id": "82857bf6-ca00-4805-8a12-b0babf068243",
   "metadata": {},
   "source": [
    "Looping using list comprehension"
   ]
  },
  {
   "cell_type": "code",
   "execution_count": 13,
   "id": "25680019-8b3c-4028-a09a-193aafb20279",
   "metadata": {},
   "outputs": [
    {
     "name": "stdout",
     "output_type": "stream",
     "text": [
      "apple\n",
      "banana\n",
      "cherry\n"
     ]
    },
    {
     "data": {
      "text/plain": [
       "[None, None, None]"
      ]
     },
     "execution_count": 13,
     "metadata": {},
     "output_type": "execute_result"
    }
   ],
   "source": [
    "[print(x) for x in list2]  #Ignore none none none"
   ]
  },
  {
   "cell_type": "code",
   "execution_count": 15,
   "id": "063ec193-8907-4587-b570-407ad0dfba67",
   "metadata": {},
   "outputs": [
    {
     "name": "stdout",
     "output_type": "stream",
     "text": [
      "['APPLE', 'BANANA', 'CHERRY', 'KIWI', 'MANGO']\n"
     ]
    }
   ],
   "source": [
    "fruits = [\"apple\", \"banana\", \"cherry\", \"kiwi\", \"mango\"]\n",
    "thislist = [x.upper() for x in fruits]\n",
    "print(thislist)"
   ]
  },
  {
   "cell_type": "code",
   "execution_count": 17,
   "id": "daf95b02-7739-41f8-b8b2-43342cea634c",
   "metadata": {},
   "outputs": [
    {
     "name": "stdout",
     "output_type": "stream",
     "text": [
      "['apple', 'banana', 'cherry', 'kiwi', 'mango']\n"
     ]
    }
   ],
   "source": [
    "thislist = [x.lower() for x in fruits]\n",
    "print(thislist)"
   ]
  },
  {
   "cell_type": "code",
   "execution_count": 20,
   "id": "80668436-5b96-4e3c-ab36-a6088ab4ea8b",
   "metadata": {},
   "outputs": [
    {
     "name": "stdout",
     "output_type": "stream",
     "text": [
      "['Apple', 'Banana', 'Cherry', 'Kiwi', 'Mango']\n"
     ]
    }
   ],
   "source": [
    "thislist = [x.capitalize() for x in fruits]\n",
    "print(thislist)"
   ]
  },
  {
   "cell_type": "markdown",
   "id": "639898a6-e83a-41cc-ada9-8c7d557addae",
   "metadata": {},
   "source": [
    "Sorting"
   ]
  },
  {
   "cell_type": "code",
   "execution_count": 35,
   "id": "1e836b39-f196-4d1f-82bf-7269d9526a4d",
   "metadata": {},
   "outputs": [
    {
     "name": "stdout",
     "output_type": "stream",
     "text": [
      "['J', 'a', 'g', 'l', 'o', 'p', 'q', 'y']\n"
     ]
    }
   ],
   "source": [
    "alpha = ['J', 'q', 'y', 'g', 'l', 'p', 'o', 'a']\n",
    "alpha.sort()\n",
    "print(alpha)"
   ]
  },
  {
   "cell_type": "markdown",
   "id": "0e62790d-26ee-41b5-a842-f481b0594628",
   "metadata": {},
   "source": [
    "Sorting with Key"
   ]
  },
  {
   "cell_type": "code",
   "execution_count": 37,
   "id": "a1cd4ff7-ab96-45bf-850f-7e3761f03512",
   "metadata": {
    "scrolled": true
   },
   "outputs": [
    {
     "name": "stdout",
     "output_type": "stream",
     "text": [
      "['a', 'g', 'J', 'l', 'o', 'p', 'q', 'y']\n"
     ]
    }
   ],
   "source": [
    "alpha.sort(key = str.lower)\n",
    "print(alpha)"
   ]
  },
  {
   "cell_type": "code",
   "execution_count": 40,
   "id": "30bdc6a7-5095-4b30-bba0-3ed7f363f27b",
   "metadata": {},
   "outputs": [
    {
     "name": "stdout",
     "output_type": "stream",
     "text": [
      "['y', 'q', 'p', 'o', 'l', 'g', 'a', 'J']\n"
     ]
    }
   ],
   "source": [
    "alpha.sort(reverse=True)\n",
    "print(alpha)"
   ]
  },
  {
   "cell_type": "markdown",
   "id": "e70456e0-2af7-4f87-b2db-cd8147544499",
   "metadata": {},
   "source": [
    "Reverse function"
   ]
  },
  {
   "cell_type": "code",
   "execution_count": 43,
   "id": "7ba074bd-8f3c-417c-9571-21d11f14e4ab",
   "metadata": {},
   "outputs": [
    {
     "name": "stdout",
     "output_type": "stream",
     "text": [
      "['y', 'q', 'p', 'o', 'l', 'g', 'a', 'J']\n"
     ]
    }
   ],
   "source": [
    "alpha = ['J', 'q', 'y', 'g', 'l', 'p', 'o', 'a']\n",
    "alpha.sort()\n",
    "alpha.reverse()\n",
    "print(alpha)"
   ]
  },
  {
   "cell_type": "markdown",
   "id": "03f3409c-9a59-4322-8b0b-295fc902dc46",
   "metadata": {},
   "source": [
    "Copying list"
   ]
  },
  {
   "cell_type": "code",
   "execution_count": 3,
   "id": "f11ae080-5a75-407f-96b3-98371b370f5e",
   "metadata": {},
   "outputs": [
    {
     "name": "stdout",
     "output_type": "stream",
     "text": [
      "['apple', 'banana', 'cherry']\n"
     ]
    }
   ],
   "source": [
    "a= [\"apple\", \"banana\", \"cherry\"]\n",
    "list1 = list(a)\n",
    "print(list1)"
   ]
  },
  {
   "cell_type": "code",
   "execution_count": 4,
   "id": "075138c5-4df4-44eb-b4b4-4f37c08edc6e",
   "metadata": {},
   "outputs": [
    {
     "name": "stdout",
     "output_type": "stream",
     "text": [
      "['apple', 'banana', 'cherry']\n"
     ]
    }
   ],
   "source": [
    "list1 = a[:]\n",
    "print(list1)"
   ]
  },
  {
   "cell_type": "markdown",
   "id": "6061f5f4-b0c6-4720-a4fd-28c0752fdb94",
   "metadata": {},
   "source": [
    "Merging two lists"
   ]
  },
  {
   "cell_type": "code",
   "execution_count": 6,
   "id": "64e64ef7-9a1a-436c-bf3d-be40849a4dd1",
   "metadata": {},
   "outputs": [
    {
     "name": "stdout",
     "output_type": "stream",
     "text": [
      "['apple', 'banana', 'cherry', 'apple', 'banana', 'cherry']\n"
     ]
    }
   ],
   "source": [
    "list3 = list1 + list2\n",
    "print(list3)"
   ]
  },
  {
   "cell_type": "code",
   "execution_count": 9,
   "id": "cbc0db26-dd74-43e6-a111-ddd40ad0a005",
   "metadata": {},
   "outputs": [
    {
     "name": "stdout",
     "output_type": "stream",
     "text": [
      "['a', 'b', 'c', 1, 2, 3]\n"
     ]
    }
   ],
   "source": [
    "list1 = ['a', 'b', 'c']\n",
    "list2 = [1, 2, 3]\n",
    "for x in list2:\n",
    "    list1.append(x)\n",
    "\n",
    "print(list1)"
   ]
  },
  {
   "cell_type": "code",
   "execution_count": 10,
   "id": "882cb09b-ad5a-422f-ab18-2841c41af705",
   "metadata": {},
   "outputs": [
    {
     "name": "stdout",
     "output_type": "stream",
     "text": [
      "['a', 'b', 'c', 1, 2, 3]\n"
     ]
    }
   ],
   "source": [
    "list1 = ['a', 'b', 'c']\n",
    "list2 = [1, 2, 3]\n",
    "list1.extend(list2)\n",
    "print(list1)"
   ]
  },
  {
   "cell_type": "code",
   "execution_count": null,
   "id": "cf210504-9561-43ad-bf15-c7447e6404c5",
   "metadata": {},
   "outputs": [],
   "source": []
  }
 ],
 "metadata": {
  "kernelspec": {
   "display_name": "Python 3 (ipykernel)",
   "language": "python",
   "name": "python3"
  },
  "language_info": {
   "codemirror_mode": {
    "name": "ipython",
    "version": 3
   },
   "file_extension": ".py",
   "mimetype": "text/x-python",
   "name": "python",
   "nbconvert_exporter": "python",
   "pygments_lexer": "ipython3",
   "version": "3.13.5"
  }
 },
 "nbformat": 4,
 "nbformat_minor": 5
}
