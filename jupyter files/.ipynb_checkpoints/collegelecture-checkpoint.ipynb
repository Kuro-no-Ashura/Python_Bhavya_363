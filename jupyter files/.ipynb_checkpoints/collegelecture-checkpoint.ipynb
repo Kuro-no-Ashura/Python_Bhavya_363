{
 "cells": [
  {
   "cell_type": "code",
   "execution_count": 1,
   "id": "663197b9-8f93-4d62-a670-48608ad6bf17",
   "metadata": {},
   "outputs": [
    {
     "name": "stdout",
     "output_type": "stream",
     "text": [
      "3.13.5 | packaged by Anaconda, Inc. | (main, Jun 12 2025, 16:37:03) [MSC v.1929 64 bit (AMD64)]\n"
     ]
    }
   ],
   "source": [
    "import sys\n",
    "print(sys.version)"
   ]
  },
  {
   "cell_type": "code",
   "execution_count": 2,
   "id": "e4ccb6ab-b5f2-4acc-ad8b-76f276034d33",
   "metadata": {},
   "outputs": [
    {
     "data": {
      "text/plain": [
       "'\\nthis is comment 2\\nthis is comment 3\\n'"
      ]
     },
     "execution_count": 2,
     "metadata": {},
     "output_type": "execute_result"
    }
   ],
   "source": [
    "#this is a comment\n",
    "\"\"\"\n",
    "this is comment 2\n",
    "this is comment 3\n",
    "\"\"\""
   ]
  },
  {
   "cell_type": "code",
   "execution_count": 3,
   "id": "2a927084-0d4b-4218-9f99-ada3110d00a5",
   "metadata": {},
   "outputs": [],
   "source": [
    "a = 6"
   ]
  },
  {
   "cell_type": "code",
   "execution_count": 4,
   "id": "6808041e-d9c4-47a2-8e6a-7e1ae69c714c",
   "metadata": {},
   "outputs": [
    {
     "data": {
      "text/plain": [
       "int"
      ]
     },
     "execution_count": 4,
     "metadata": {},
     "output_type": "execute_result"
    }
   ],
   "source": [
    "type(a)"
   ]
  },
  {
   "cell_type": "code",
   "execution_count": 5,
   "id": "9e6b1be5-4eac-4c82-acd8-a2c7b37085a2",
   "metadata": {},
   "outputs": [
    {
     "data": {
      "text/plain": [
       "140733296391240"
      ]
     },
     "execution_count": 5,
     "metadata": {},
     "output_type": "execute_result"
    }
   ],
   "source": [
    "id(a)"
   ]
  },
  {
   "cell_type": "markdown",
   "id": "cd7aaa35-cdc1-46f0-8733-ec3c8affac3c",
   "metadata": {},
   "source": [
    "#CASTING"
   ]
  },
  {
   "cell_type": "code",
   "execution_count": 6,
   "id": "d16f8e02-9fe1-499f-90bf-bc1096f1b4b9",
   "metadata": {},
   "outputs": [],
   "source": [
    "a = float(a)"
   ]
  },
  {
   "cell_type": "code",
   "execution_count": 7,
   "id": "348685ae-9c28-49dd-91cc-8fc78e39911c",
   "metadata": {},
   "outputs": [
    {
     "data": {
      "text/plain": [
       "6.0"
      ]
     },
     "execution_count": 7,
     "metadata": {},
     "output_type": "execute_result"
    }
   ],
   "source": [
    "a"
   ]
  },
  {
   "cell_type": "code",
   "execution_count": 8,
   "id": "055e20e1-be90-493d-b3d2-e0149856942b",
   "metadata": {},
   "outputs": [
    {
     "data": {
      "text/plain": [
       "float"
      ]
     },
     "execution_count": 8,
     "metadata": {},
     "output_type": "execute_result"
    }
   ],
   "source": [
    "type(a)"
   ]
  },
  {
   "cell_type": "code",
   "execution_count": 9,
   "id": "a9e0d723-a91c-486c-ad29-3ed4c735b0fa",
   "metadata": {},
   "outputs": [],
   "source": [
    "b=10"
   ]
  },
  {
   "cell_type": "markdown",
   "id": "725e35ee-197d-4003-8d35-2c7aac9f302f",
   "metadata": {},
   "source": [
    "c=9"
   ]
  },
  {
   "cell_type": "markdown",
   "id": "f82949f9-d53f-42bf-b371-3eb51ce1aa01",
   "metadata": {},
   "source": [
    "a"
   ]
  },
  {
   "cell_type": "code",
   "execution_count": 11,
   "id": "23c2ea9f-0cb0-4127-a322-8d10e57e311f",
   "metadata": {},
   "outputs": [
    {
     "data": {
      "text/plain": [
       "1352597247920"
      ]
     },
     "execution_count": 11,
     "metadata": {},
     "output_type": "execute_result"
    }
   ],
   "source": [
    "id(a)"
   ]
  },
  {
   "cell_type": "code",
   "execution_count": 12,
   "id": "4e835cb5-0131-4bd5-887c-4d85f0a5e391",
   "metadata": {},
   "outputs": [
    {
     "data": {
      "text/plain": [
       "140733296391368"
      ]
     },
     "execution_count": 12,
     "metadata": {},
     "output_type": "execute_result"
    }
   ],
   "source": [
    "id(b)"
   ]
  },
  {
   "cell_type": "markdown",
   "id": "15983209-ec98-4379-a528-fbf5f7f48c18",
   "metadata": {},
   "source": [
    "#Camel case\n",
    "myvariable = \"john\"\n",
    "#Pascal case\n",
    "Myvariable = \"john\"\n",
    "#snake case\n",
    "my_variable = \"john\""
   ]
  },
  {
   "cell_type": "code",
   "execution_count": 13,
   "id": "aa16a854-3381-4cf5-a38c-234f908084db",
   "metadata": {},
   "outputs": [],
   "source": [
    "x , y , z = 4 , 6 , 91"
   ]
  },
  {
   "cell_type": "code",
   "execution_count": 14,
   "id": "501b910a-dcee-4648-9b36-259f4c0f82ea",
   "metadata": {},
   "outputs": [
    {
     "name": "stdout",
     "output_type": "stream",
     "text": [
      "4 6 91\n"
     ]
    }
   ],
   "source": [
    "print(x , y , z)"
   ]
  },
  {
   "cell_type": "code",
   "execution_count": 15,
   "id": "cbbfcc6f-6b62-4a94-a14f-6a766c400f03",
   "metadata": {},
   "outputs": [],
   "source": [
    "#List unPACKING\n",
    "fruits = ['apple' , 'banana' , 'pineapple' ]"
   ]
  },
  {
   "cell_type": "code",
   "execution_count": 16,
   "id": "30e3a1fd-1260-4898-b3ed-f58b9c399880",
   "metadata": {},
   "outputs": [
    {
     "data": {
      "text/plain": [
       "['apple', 'banana', 'pineapple']"
      ]
     },
     "execution_count": 16,
     "metadata": {},
     "output_type": "execute_result"
    }
   ],
   "source": [
    "fruits"
   ]
  },
  {
   "cell_type": "code",
   "execution_count": 17,
   "id": "7a32560b-ce11-42b1-a34f-f42b67c88d3c",
   "metadata": {},
   "outputs": [],
   "source": [
    "x, y , z = fruits"
   ]
  },
  {
   "cell_type": "code",
   "execution_count": 18,
   "id": "2e4e41eb-f974-4e0b-b74f-aba96ab20c1a",
   "metadata": {},
   "outputs": [
    {
     "name": "stdout",
     "output_type": "stream",
     "text": [
      "apple banana pineapple\n"
     ]
    }
   ],
   "source": [
    "print(x , y ,z)"
   ]
  },
  {
   "cell_type": "markdown",
   "id": "4bf90159-d61f-42bc-a19e-2722669628a3",
   "metadata": {},
   "source": [
    "Global Variable"
   ]
  },
  {
   "cell_type": "code",
   "execution_count": 19,
   "id": "5e6fcdee-3bfb-4eed-96a1-8e77c5941e25",
   "metadata": {},
   "outputs": [],
   "source": [
    "def myfunc():\n",
    "    global t\n",
    "    t = \"pardon\""
   ]
  },
  {
   "cell_type": "code",
   "execution_count": 20,
   "id": "3b0f29ba-7058-45e2-9017-12b8d4208dd3",
   "metadata": {},
   "outputs": [
    {
     "name": "stdout",
     "output_type": "stream",
     "text": [
      "pardon\n"
     ]
    }
   ],
   "source": [
    "myfunc()\n",
    "print(t)"
   ]
  },
  {
   "cell_type": "markdown",
   "id": "c227d828-3785-4e8a-a7f9-82ae902c4f45",
   "metadata": {},
   "source": [
    "Numeric Data types:"
   ]
  },
  {
   "cell_type": "code",
   "execution_count": 21,
   "id": "2b8f4858-c787-4bb7-856f-54426887918e",
   "metadata": {},
   "outputs": [],
   "source": [
    "var1 = 1\n",
    "var2 = True\n",
    "var3 = 10.234\n",
    "var4 = 10 + 3J"
   ]
  },
  {
   "cell_type": "code",
   "execution_count": 22,
   "id": "2e6bcc61-0f66-4129-bef8-28b45bfa63a4",
   "metadata": {},
   "outputs": [
    {
     "name": "stdout",
     "output_type": "stream",
     "text": [
      "<class 'int'>\n",
      "<class 'bool'>\n",
      "<class 'float'>\n",
      "<class 'complex'>\n"
     ]
    }
   ],
   "source": [
    "print(type(var1))\n",
    "print(type(var2))\n",
    "print(type(var3))\n",
    "print(type(var4))"
   ]
  },
  {
   "cell_type": "code",
   "execution_count": 23,
   "id": "886de152-7411-496d-8318-8459a585c5bd",
   "metadata": {},
   "outputs": [
    {
     "name": "stdout",
     "output_type": "stream",
     "text": [
      "140733296391080\n",
      "140733295479264\n",
      "1352597256048\n",
      "1352597253936\n"
     ]
    }
   ],
   "source": [
    "print(id(var1))\n",
    "print(id(var2))\n",
    "print(id(var3))\n",
    "print(id(var4))"
   ]
  },
  {
   "cell_type": "markdown",
   "id": "c1461c73-c69a-4785-8606-38aa90a50320",
   "metadata": {},
   "source": [
    "Multiline String:"
   ]
  },
  {
   "cell_type": "code",
   "execution_count": 24,
   "id": "14960c7b-4c97-4e30-8d84-986afb84b2a4",
   "metadata": {},
   "outputs": [
    {
     "name": "stdout",
     "output_type": "stream",
     "text": [
      "hello my name is walter white and i live 193 single street argentina and i have a confession to make\n"
     ]
    }
   ],
   "source": [
    "print(\"\"\"hello my name is walter white and i live 193 single street argentina and i have a confession to make\"\"\")"
   ]
  },
  {
   "cell_type": "code",
   "execution_count": 25,
   "id": "b1faf129-cfd3-43ae-a09e-53d09719af6a",
   "metadata": {},
   "outputs": [
    {
     "name": "stdout",
     "output_type": "stream",
     "text": [
      "hello my name is walter white and i live 193 single street argentina and i have a confession to make\n"
     ]
    }
   ],
   "source": [
    "print('''hello my name is walter white and i live 193 single street argentina and i have a confession to make''')"
   ]
  },
  {
   "cell_type": "markdown",
   "id": "36c1bc4e-1e4a-406f-bcea-95a4826f59ea",
   "metadata": {},
   "source": [
    "Length of arrays and string:"
   ]
  },
  {
   "cell_type": "code",
   "execution_count": 44,
   "id": "bf268dd8-f86c-4334-bb18-9857bec48312",
   "metadata": {},
   "outputs": [
    {
     "name": "stdout",
     "output_type": "stream",
     "text": [
      "37\n",
      "e\n"
     ]
    }
   ],
   "source": [
    "arr = \"Hello world! This is a wonderful day!\"\n",
    "print(len(arr))\n",
    "print(arr[1])"
   ]
  },
  {
   "cell_type": "markdown",
   "id": "b402ec92-8dc2-4fa8-a196-32fec1924519",
   "metadata": {},
   "source": [
    "Cheking the STring:"
   ]
  },
  {
   "cell_type": "code",
   "execution_count": 41,
   "id": "ace0ea50-17cf-42f8-a4ab-d6e303ab7d5c",
   "metadata": {},
   "outputs": [
    {
     "name": "stdout",
     "output_type": "stream",
     "text": [
      "True\n"
     ]
    }
   ],
   "source": [
    "print(\"wonderful\" in arr)"
   ]
  },
  {
   "cell_type": "code",
   "execution_count": 40,
   "id": "3de433da-51d7-49a1-9f98-e9355bb54d2c",
   "metadata": {},
   "outputs": [
    {
     "name": "stdout",
     "output_type": "stream",
     "text": [
      "Yes present\n"
     ]
    }
   ],
   "source": [
    "if(\"is\" in arr):\n",
    "    print(\"Yes present\")"
   ]
  },
  {
   "cell_type": "markdown",
   "id": "d15fc7d2-8d6e-4bae-98ac-54e5684225c6",
   "metadata": {},
   "source": [
    "Slicing of elements"
   ]
  },
  {
   "cell_type": "code",
   "execution_count": 72,
   "id": "0d4f6cb2-cf91-4b6e-9ca3-3f2f1f43ee66",
   "metadata": {},
   "outputs": [
    {
     "name": "stdout",
     "output_type": "stream",
     "text": [
      "llo\n",
      "Hello\n",
      " da\n"
     ]
    }
   ],
   "source": [
    "print(arr[2:5])\n",
    "print(arr[:5])\n",
    "print(arr[-5:-2])"
   ]
  },
  {
   "cell_type": "code",
   "execution_count": 71,
   "id": "82e99aaf-6572-40cf-93f8-d28ee2461459",
   "metadata": {},
   "outputs": [
    {
     "name": "stdout",
     "output_type": "stream",
     "text": [
      "!yad lufrednow a si sihT !dlrow olleH\n"
     ]
    }
   ],
   "source": [
    "#Reverse String\n",
    "print(arr[::-1])"
   ]
  },
  {
   "cell_type": "markdown",
   "id": "0e6ee03e-8593-4981-83bf-73db2db6cf2a",
   "metadata": {},
   "source": [
    "Modify String"
   ]
  },
  {
   "cell_type": "code",
   "execution_count": 73,
   "id": "9c82e7d4-4187-44ae-be1d-b4aed2c35de3",
   "metadata": {},
   "outputs": [
    {
     "name": "stdout",
     "output_type": "stream",
     "text": [
      "HELLO WORLD! THIS IS A WONDERFUL DAY!\n",
      "hello world! this is a wonderful day!\n"
     ]
    }
   ],
   "source": [
    "print(arr.upper())\n",
    "print(arr.lower())"
   ]
  },
  {
   "cell_type": "code",
   "execution_count": 81,
   "id": "86ad0cc5-3c60-4fb1-8e31-1de965eb21c7",
   "metadata": {},
   "outputs": [
    {
     "name": "stdout",
     "output_type": "stream",
     "text": [
      "      there is a     lot of space        \n"
     ]
    }
   ],
   "source": [
    "lot_of_space = \"      there is a     lot of space        \"\n",
    "print(lot_of_space)"
   ]
  },
  {
   "cell_type": "code",
   "execution_count": 82,
   "id": "a624dc18-08b4-4b25-a286-b22cccaf2e56",
   "metadata": {
    "scrolled": true
   },
   "outputs": [
    {
     "name": "stdout",
     "output_type": "stream",
     "text": [
      "there is a     lot of space\n"
     ]
    }
   ],
   "source": [
    "print(lot_of_space.strip())"
   ]
  },
  {
   "cell_type": "code",
   "execution_count": null,
   "id": "ab0e76a2-70f8-41a4-977a-8ff8e0f9e387",
   "metadata": {},
   "outputs": [],
   "source": []
  }
 ],
 "metadata": {
  "kernelspec": {
   "display_name": "Python 3 (ipykernel)",
   "language": "python",
   "name": "python3"
  },
  "language_info": {
   "codemirror_mode": {
    "name": "ipython",
    "version": 3
   },
   "file_extension": ".py",
   "mimetype": "text/x-python",
   "name": "python",
   "nbconvert_exporter": "python",
   "pygments_lexer": "ipython3",
   "version": "3.13.5"
  }
 },
 "nbformat": 4,
 "nbformat_minor": 5
}
