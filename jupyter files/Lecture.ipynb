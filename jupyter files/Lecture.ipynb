{
 "cells": [
  {
   "cell_type": "code",
   "execution_count": 39,
   "id": "8b8f2032-4f65-4e48-8188-2c91a1296476",
   "metadata": {},
   "outputs": [],
   "source": [
    "name = \"Bhavya\""
   ]
  },
  {
   "cell_type": "code",
   "execution_count": 4,
   "id": "19ba8db2-2607-48b8-9840-0ee0e516ec96",
   "metadata": {},
   "outputs": [
    {
     "data": {
      "text/plain": [
       "'Bhavya'"
      ]
     },
     "execution_count": 4,
     "metadata": {},
     "output_type": "execute_result"
    }
   ],
   "source": [
    "name"
   ]
  },
  {
   "cell_type": "code",
   "execution_count": 9,
   "id": "0fc9c1b1-f8f8-462e-881c-7b6134170fcc",
   "metadata": {},
   "outputs": [
    {
     "data": {
      "text/plain": [
       "'Bhavya Bisht'"
      ]
     },
     "execution_count": 9,
     "metadata": {},
     "output_type": "execute_result"
    }
   ],
   "source": [
    "fullname = name +' Bisht'\n",
    "fullname"
   ]
  },
  {
   "cell_type": "code",
   "execution_count": 34,
   "id": "d96f3d10-4172-478a-84f4-7095f8eedb8e",
   "metadata": {},
   "outputs": [
    {
     "data": {
      "text/plain": [
       "'Hello World'"
      ]
     },
     "execution_count": 34,
     "metadata": {},
     "output_type": "execute_result"
    }
   ],
   "source": [
    "x = 'Hello World'\n",
    "x"
   ]
  },
  {
   "cell_type": "code",
   "execution_count": 23,
   "id": "6245f21e-7db9-4bfe-a15c-60edbefb9f6b",
   "metadata": {},
   "outputs": [
    {
     "data": {
      "text/plain": [
       "'hello world'"
      ]
     },
     "execution_count": 23,
     "metadata": {},
     "output_type": "execute_result"
    }
   ],
   "source": [
    "x.lower()"
   ]
  },
  {
   "cell_type": "code",
   "execution_count": 29,
   "id": "764f3ba8-efa7-4e87-9303-53b5d173214d",
   "metadata": {},
   "outputs": [
    {
     "data": {
      "text/plain": [
       "['Hello', 'World']"
      ]
     },
     "execution_count": 29,
     "metadata": {},
     "output_type": "execute_result"
    }
   ],
   "source": [
    "x.split()"
   ]
  },
  {
   "cell_type": "code",
   "execution_count": 44,
   "id": "82a4dac7-5556-4db6-80e8-05a1b4b96336",
   "metadata": {},
   "outputs": [
    {
     "name": "stdout",
     "output_type": "stream",
     "text": [
      "Hello WorldBhavya BishtBhavya\n"
     ]
    }
   ],
   "source": [
    "print(x + '{1}{0}'.format(name,fullname))"
   ]
  },
  {
   "cell_type": "code",
   "execution_count": 19,
   "id": "1013f7c0-c401-4718-8804-86a1f2f9bd66",
   "metadata": {},
   "outputs": [
    {
     "name": "stdout",
     "output_type": "stream",
     "text": [
      "the answer is 3.3333\n"
     ]
    }
   ],
   "source": [
    "print(\"the answer is {n:1.4f}\".format(n=10 / 3))"
   ]
  },
  {
   "cell_type": "code",
   "execution_count": null,
   "id": "7e281109-fbf0-485f-b49c-21563c6e26bd",
   "metadata": {},
   "outputs": [],
   "source": [
    "print(\"The answer is {} {}\".format(n,f ))"
   ]
  }
 ],
 "metadata": {
  "kernelspec": {
   "display_name": "Python 3 (ipykernel)",
   "language": "python",
   "name": "python3"
  },
  "language_info": {
   "codemirror_mode": {
    "name": "ipython",
    "version": 3
   },
   "file_extension": ".py",
   "mimetype": "text/x-python",
   "name": "python",
   "nbconvert_exporter": "python",
   "pygments_lexer": "ipython3",
   "version": "3.13.5"
  }
 },
 "nbformat": 4,
 "nbformat_minor": 5
}
