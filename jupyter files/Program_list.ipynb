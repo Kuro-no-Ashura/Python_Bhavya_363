{
 "cells": [
  {
   "cell_type": "markdown",
   "id": "4ad92b9b-dd84-454a-bcbf-4510b9a0afc1",
   "metadata": {},
   "source": [
    "Program to find the Square of a number"
   ]
  },
  {
   "cell_type": "code",
   "execution_count": 14,
   "id": "d1350418-adf6-406c-9a66-44419cc8bd35",
   "metadata": {},
   "outputs": [
    {
     "name": "stdin",
     "output_type": "stream",
     "text": [
      "Enter the value:  2\n"
     ]
    },
    {
     "name": "stdout",
     "output_type": "stream",
     "text": [
      "The square of number is: 4\n"
     ]
    }
   ],
   "source": [
    "inp = int(input(\"Enter the value: \"))\n",
    "ans = inp**2\n",
    "print(f\"The square of number is: {ans}\")"
   ]
  },
  {
   "cell_type": "markdown",
   "id": "b44f1d73-ceea-4115-841b-4974521c390a",
   "metadata": {},
   "source": [
    "Program to find sum of two numeber"
   ]
  },
  {
   "cell_type": "code",
   "execution_count": 10,
   "id": "71d004ae-7ffc-468c-a98d-3c2c2a83c50b",
   "metadata": {},
   "outputs": [
    {
     "name": "stdin",
     "output_type": "stream",
     "text": [
      "Enter the value:  2\n",
      "Enter the value:  3\n"
     ]
    },
    {
     "name": "stdout",
     "output_type": "stream",
     "text": [
      "The sum of number is: 5\n"
     ]
    }
   ],
   "source": [
    "a = int(input(\"Enter the value: \"))\n",
    "b = int(input(\"Enter the value: \"))\n",
    "val = a + b;\n",
    "print(f\"The sum of number is: {val}\")"
   ]
  },
  {
   "cell_type": "markdown",
   "id": "ef42f9fe-a830-42eb-86c6-b37bd9daff51",
   "metadata": {},
   "source": [
    "Program to swap two variable"
   ]
  },
  {
   "cell_type": "code",
   "execution_count": 12,
   "id": "591c0f51-55c1-415c-8a12-521b287fcb83",
   "metadata": {},
   "outputs": [
    {
     "name": "stdin",
     "output_type": "stream",
     "text": [
      "Enter the value:  2\n",
      "Enter the value:  3\n"
     ]
    },
    {
     "name": "stdout",
     "output_type": "stream",
     "text": [
      "First number 2 and second number 3\n",
      "First number 3 and second number 2\n"
     ]
    }
   ],
   "source": [
    "a = int(input(\"Enter the value: \"))\n",
    "b = int(input(\"Enter the value: \"))\n",
    "print(f\"First number {a} and second number {b}\")\n",
    "a , b = b , a\n",
    "print(f\"First number {a} and second number {b}\")"
   ]
  },
  {
   "cell_type": "markdown",
   "id": "05609ae0-3cec-4c9d-ab6c-5632940984be",
   "metadata": {},
   "source": [
    "Number Guessing Game"
   ]
  },
  {
   "cell_type": "code",
   "execution_count": 18,
   "id": "35f7f808-b47a-4227-8995-4db8d1a3a0d5",
   "metadata": {},
   "outputs": [
    {
     "name": "stdin",
     "output_type": "stream",
     "text": [
      "Enter the value:  2\n",
      "Enter the value:  2\n"
     ]
    },
    {
     "name": "stdout",
     "output_type": "stream",
     "text": [
      "Guessed\n"
     ]
    }
   ],
   "source": [
    "a = int(input(\"Enter the value: \"))\n",
    "b = int(input(\"Enter the value: \"))\n",
    "if a==b:\n",
    "    print(\"Guessed\")\n",
    "else:\n",
    "    print(\"Not Guessed\")    "
   ]
  },
  {
   "cell_type": "markdown",
   "id": "e42ac184-580e-4857-a15f-af16c393ba8b",
   "metadata": {},
   "source": [
    "Program to check if a number is even or odd"
   ]
  },
  {
   "cell_type": "code",
   "execution_count": 20,
   "id": "93229554-6b20-4c11-a839-88f8d3109df4",
   "metadata": {},
   "outputs": [
    {
     "name": "stdin",
     "output_type": "stream",
     "text": [
      "Enter the value:  6\n"
     ]
    },
    {
     "name": "stdout",
     "output_type": "stream",
     "text": [
      "Number is Even\n"
     ]
    }
   ],
   "source": [
    "a = int(input(\"Enter the value: \"))\n",
    "if a % 2 == 0:\n",
    "    print(\"Number is Even\")\n",
    "else:\n",
    "    print(\"Number is odd\")"
   ]
  },
  {
   "cell_type": "markdown",
   "id": "22d66f14-e44e-42e4-b506-7607618a672e",
   "metadata": {},
   "source": []
  }
 ],
 "metadata": {
  "kernelspec": {
   "display_name": "Python 3 (ipykernel)",
   "language": "python",
   "name": "python3"
  },
  "language_info": {
   "codemirror_mode": {
    "name": "ipython",
    "version": 3
   },
   "file_extension": ".py",
   "mimetype": "text/x-python",
   "name": "python",
   "nbconvert_exporter": "python",
   "pygments_lexer": "ipython3",
   "version": "3.13.5"
  }
 },
 "nbformat": 4,
 "nbformat_minor": 5
}
