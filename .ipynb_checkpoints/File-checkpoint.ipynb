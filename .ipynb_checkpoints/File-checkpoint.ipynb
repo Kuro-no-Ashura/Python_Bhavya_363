{
 "cells": [
  {
   "cell_type": "markdown",
   "id": "e65721fc-63b7-4c19-8434-62588e5b2937",
   "metadata": {},
   "source": [
    "File writing"
   ]
  },
  {
   "cell_type": "code",
   "execution_count": 1,
   "id": "bcc833b0-f413-4172-b655-2bef42ff12b4",
   "metadata": {},
   "outputs": [
    {
     "name": "stdout",
     "output_type": "stream",
     "text": [
      "Overwriting myfile.txt\n"
     ]
    }
   ],
   "source": [
    "%%writefile myfile.txt\n",
    "hello this is my first line\n",
    "and my second line\n",
    "and my third one"
   ]
  },
  {
   "cell_type": "code",
   "execution_count": 8,
   "id": "898f614e-a0c3-426b-9494-5b7c8ad3d704",
   "metadata": {},
   "outputs": [],
   "source": [
    "textfile = open('myfile.txt')"
   ]
  },
  {
   "cell_type": "code",
   "execution_count": 9,
   "id": "507b1c34-818b-42d0-9143-90595c5d4f3f",
   "metadata": {},
   "outputs": [
    {
     "data": {
      "text/plain": [
       "'C:\\\\Users\\\\ADMIN\\\\Desktop\\\\Pthon\\\\Python_Bhavya_363'"
      ]
     },
     "execution_count": 9,
     "metadata": {},
     "output_type": "execute_result"
    }
   ],
   "source": [
    "pwd"
   ]
  },
  {
   "cell_type": "code",
   "execution_count": 10,
   "id": "c080622e-8efc-4a24-8d30-a7c406ac9f82",
   "metadata": {},
   "outputs": [
    {
     "data": {
      "text/plain": [
       "'hello this is my first line\\nand my second line\\nand my third one\\n'"
      ]
     },
     "execution_count": 10,
     "metadata": {},
     "output_type": "execute_result"
    }
   ],
   "source": [
    "textfile.read()"
   ]
  },
  {
   "cell_type": "code",
   "execution_count": 11,
   "id": "2c5921fb-bca8-4ada-89f9-e144c560a999",
   "metadata": {},
   "outputs": [
    {
     "data": {
      "text/plain": [
       "''"
      ]
     },
     "execution_count": 11,
     "metadata": {},
     "output_type": "execute_result"
    }
   ],
   "source": [
    "textfile.read()"
   ]
  },
  {
   "cell_type": "code",
   "execution_count": 26,
   "id": "7a3214a7-5b25-4c65-a190-80ddf133afcf",
   "metadata": {},
   "outputs": [
    {
     "data": {
      "text/plain": [
       "0"
      ]
     },
     "execution_count": 26,
     "metadata": {},
     "output_type": "execute_result"
    }
   ],
   "source": [
    "textfile.seek(0)"
   ]
  },
  {
   "cell_type": "code",
   "execution_count": 24,
   "id": "cdf82b40-c21d-4f77-a149-42b1a875958e",
   "metadata": {},
   "outputs": [
    {
     "data": {
      "text/plain": [
       "'hello this is my first line\\nand my second line\\nand my third one\\n'"
      ]
     },
     "execution_count": 24,
     "metadata": {},
     "output_type": "execute_result"
    }
   ],
   "source": [
    "contents = textfile.read()\n",
    "contents"
   ]
  },
  {
   "cell_type": "code",
   "execution_count": 27,
   "id": "c1bce61f-0308-4e79-951e-bfcd94b62e90",
   "metadata": {},
   "outputs": [
    {
     "data": {
      "text/plain": [
       "['hello this is my first line\\n', 'and my second line\\n', 'and my third one\\n']"
      ]
     },
     "execution_count": 27,
     "metadata": {},
     "output_type": "execute_result"
    }
   ],
   "source": [
    "textfile.readlines()"
   ]
  },
  {
   "cell_type": "code",
   "execution_count": 28,
   "id": "3529dd3b-f2fb-4c8a-adab-06fd7df243be",
   "metadata": {},
   "outputs": [],
   "source": [
    "textfile.close()"
   ]
  },
  {
   "cell_type": "code",
   "execution_count": 29,
   "id": "28d830f1-559c-4f8b-967e-0e2bcc8183b8",
   "metadata": {},
   "outputs": [
    {
     "data": {
      "text/plain": [
       "'hello this is my first line\\nand my second line\\nand my third one\\n'"
      ]
     },
     "execution_count": 29,
     "metadata": {},
     "output_type": "execute_result"
    }
   ],
   "source": [
    "with open('myfile.txt') as my_new_file:\n",
    "    content = my_new_file.read()\n",
    "contents"
   ]
  },
  {
   "cell_type": "code",
   "execution_count": 30,
   "id": "e8f76aa9-d93b-405e-8cb9-8a1a1033cea7",
   "metadata": {},
   "outputs": [
    {
     "data": {
      "text/plain": [
       "'hello this is my first line\\nand my second line\\nand my third one\\n'"
      ]
     },
     "execution_count": 30,
     "metadata": {},
     "output_type": "execute_result"
    }
   ],
   "source": [
    "with open('myfile.txt', mode='r') as myfile:\n",
    "    contents = myfile.read()\n",
    "contents"
   ]
  },
  {
   "cell_type": "markdown",
   "id": "e9eb6bc1-caf6-4b55-bfb1-3c41a4ce7b54",
   "metadata": {},
   "source": [
    "Modes of operating in a file"
   ]
  },
  {
   "cell_type": "code",
   "execution_count": 42,
   "id": "cef400fe-123d-4778-a997-8d96d65775c8",
   "metadata": {},
   "outputs": [
    {
     "name": "stdout",
     "output_type": "stream",
     "text": [
      "Overwriting my_text_file\n"
     ]
    }
   ],
   "source": [
    "%%writefile my_text_file\n",
    "hello this is first\n",
    "hello this is second\n",
    "hello this is third"
   ]
  },
  {
   "cell_type": "code",
   "execution_count": 43,
   "id": "145455c7-8842-4e37-8907-d784d4acff5c",
   "metadata": {},
   "outputs": [
    {
     "name": "stdout",
     "output_type": "stream",
     "text": [
      "hello this is first\n",
      "hello this is second\n",
      "hello this is third\n",
      "\n"
     ]
    }
   ],
   "source": [
    "with open('my_text_file', mode = 'r') as f:\n",
    "    print(f.read())"
   ]
  },
  {
   "cell_type": "code",
   "execution_count": 44,
   "id": "86ab6527-d6d5-4ccb-b6b9-5df083ba0b46",
   "metadata": {},
   "outputs": [],
   "source": [
    "with open('my_text_file', mode = 'a') as f:\n",
    "    f.write('hello this is fourth')"
   ]
  },
  {
   "cell_type": "code",
   "execution_count": 45,
   "id": "87930c48-9cf8-482e-8ca8-3956e13fb364",
   "metadata": {},
   "outputs": [
    {
     "name": "stdout",
     "output_type": "stream",
     "text": [
      "hello this is first\n",
      "hello this is second\n",
      "hello this is third\n",
      "hello this is fourth\n"
     ]
    }
   ],
   "source": [
    "with open('my_text_file', mode = 'r') as f:\n",
    "    print(f.read())"
   ]
  },
  {
   "cell_type": "markdown",
   "id": "4ee87539-e25a-4bd9-8a8a-f87a22847390",
   "metadata": {},
   "source": [
    "Writing in a file"
   ]
  },
  {
   "cell_type": "code",
   "execution_count": 48,
   "id": "fe61e49c-64c1-49af-a65a-211398d53986",
   "metadata": {},
   "outputs": [
    {
     "name": "stdout",
     "output_type": "stream",
     "text": [
      "I created this file\n"
     ]
    }
   ],
   "source": [
    "with open('second_file', mode = 'w') as f:\n",
    "    f.write('I created this file')\n",
    "\n",
    "with open('second_file',mode = 'r') as f:\n",
    "    print(f.read())"
   ]
  },
  {
   "cell_type": "code",
   "execution_count": null,
   "id": "195cdb03-c1d4-4817-872e-7a8e58dc6375",
   "metadata": {},
   "outputs": [],
   "source": []
  }
 ],
 "metadata": {
  "kernelspec": {
   "display_name": "Python 3 (ipykernel)",
   "language": "python",
   "name": "python3"
  },
  "language_info": {
   "codemirror_mode": {
    "name": "ipython",
    "version": 3
   },
   "file_extension": ".py",
   "mimetype": "text/x-python",
   "name": "python",
   "nbconvert_exporter": "python",
   "pygments_lexer": "ipython3",
   "version": "3.13.5"
  }
 },
 "nbformat": 4,
 "nbformat_minor": 5
}
