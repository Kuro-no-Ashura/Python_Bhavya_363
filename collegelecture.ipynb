{
 "cells": [
  {
   "cell_type": "code",
   "execution_count": 1,
   "id": "663197b9-8f93-4d62-a670-48608ad6bf17",
   "metadata": {},
   "outputs": [
    {
     "name": "stdout",
     "output_type": "stream",
     "text": [
      "3.13.5 | packaged by Anaconda, Inc. | (main, Jun 12 2025, 16:37:03) [MSC v.1929 64 bit (AMD64)]\n"
     ]
    }
   ],
   "source": [
    "import sys\n",
    "print(sys.version)"
   ]
  },
  {
   "cell_type": "code",
   "execution_count": 8,
   "id": "e4ccb6ab-b5f2-4acc-ad8b-76f276034d33",
   "metadata": {},
   "outputs": [
    {
     "data": {
      "text/plain": [
       "'\\nthis is comment 2\\nthis is comment 3\\n'"
      ]
     },
     "execution_count": 8,
     "metadata": {},
     "output_type": "execute_result"
    }
   ],
   "source": [
    "#this is a comment\n",
    "\"\"\"\n",
    "this is comment 2\n",
    "this is comment 3\n",
    "\"\"\""
   ]
  },
  {
   "cell_type": "code",
   "execution_count": 3,
   "id": "2a927084-0d4b-4218-9f99-ada3110d00a5",
   "metadata": {},
   "outputs": [],
   "source": [
    "a = 6"
   ]
  },
  {
   "cell_type": "code",
   "execution_count": 4,
   "id": "6808041e-d9c4-47a2-8e6a-7e1ae69c714c",
   "metadata": {},
   "outputs": [
    {
     "data": {
      "text/plain": [
       "int"
      ]
     },
     "execution_count": 4,
     "metadata": {},
     "output_type": "execute_result"
    }
   ],
   "source": [
    "type(a)"
   ]
  },
  {
   "cell_type": "code",
   "execution_count": 5,
   "id": "9e6b1be5-4eac-4c82-acd8-a2c7b37085a2",
   "metadata": {},
   "outputs": [
    {
     "data": {
      "text/plain": [
       "140715281069128"
      ]
     },
     "execution_count": 5,
     "metadata": {},
     "output_type": "execute_result"
    }
   ],
   "source": [
    "id(a)"
   ]
  },
  {
   "cell_type": "code",
   "execution_count": null,
   "id": "9dad94fc-43ea-41ad-96cc-6bb328fd5223",
   "metadata": {},
   "outputs": [],
   "source": [
    "#CASTING"
   ]
  },
  {
   "cell_type": "code",
   "execution_count": 19,
   "id": "d16f8e02-9fe1-499f-90bf-bc1096f1b4b9",
   "metadata": {},
   "outputs": [],
   "source": [
    "a = float(a)"
   ]
  },
  {
   "cell_type": "code",
   "execution_count": 20,
   "id": "348685ae-9c28-49dd-91cc-8fc78e39911c",
   "metadata": {},
   "outputs": [
    {
     "data": {
      "text/plain": [
       "9.0"
      ]
     },
     "execution_count": 20,
     "metadata": {},
     "output_type": "execute_result"
    }
   ],
   "source": [
    "a"
   ]
  },
  {
   "cell_type": "code",
   "execution_count": 7,
   "id": "055e20e1-be90-493d-b3d2-e0149856942b",
   "metadata": {},
   "outputs": [
    {
     "data": {
      "text/plain": [
       "str"
      ]
     },
     "execution_count": 7,
     "metadata": {},
     "output_type": "execute_result"
    }
   ],
   "source": [
    "type(a)"
   ]
  },
  {
   "cell_type": "code",
   "execution_count": 9,
   "id": "a9e0d723-a91c-486c-ad29-3ed4c735b0fa",
   "metadata": {},
   "outputs": [],
   "source": [
    "b=10"
   ]
  },
  {
   "cell_type": "markdown",
   "id": "725e35ee-197d-4003-8d35-2c7aac9f302f",
   "metadata": {},
   "source": [
    "c=9"
   ]
  },
  {
   "cell_type": "code",
   "execution_count": 11,
   "id": "42917957-f5b5-4c47-9791-02c2105d527f",
   "metadata": {},
   "outputs": [],
   "source": [
    "a=b=c"
   ]
  },
  {
   "cell_type": "code",
   "execution_count": 12,
   "id": "99fe28fc-3ded-418b-b48f-86b960ac39b0",
   "metadata": {},
   "outputs": [
    {
     "data": {
      "text/plain": [
       "9"
      ]
     },
     "execution_count": 12,
     "metadata": {},
     "output_type": "execute_result"
    }
   ],
   "source": [
    "a"
   ]
  },
  {
   "cell_type": "code",
   "execution_count": 13,
   "id": "23c2ea9f-0cb0-4127-a322-8d10e57e311f",
   "metadata": {},
   "outputs": [
    {
     "data": {
      "text/plain": [
       "140714798462120"
      ]
     },
     "execution_count": 13,
     "metadata": {},
     "output_type": "execute_result"
    }
   ],
   "source": [
    "id(a)"
   ]
  },
  {
   "cell_type": "code",
   "execution_count": 14,
   "id": "4e835cb5-0131-4bd5-887c-4d85f0a5e391",
   "metadata": {},
   "outputs": [
    {
     "data": {
      "text/plain": [
       "140714798462120"
      ]
     },
     "execution_count": 14,
     "metadata": {},
     "output_type": "execute_result"
    }
   ],
   "source": [
    "id(b)"
   ]
  },
  {
   "cell_type": "code",
   "execution_count": 15,
   "id": "6ca78bdd-3c9a-4913-9f9d-0b06d3e4c980",
   "metadata": {},
   "outputs": [
    {
     "data": {
      "text/plain": [
       "140714798462120"
      ]
     },
     "execution_count": 15,
     "metadata": {},
     "output_type": "execute_result"
    }
   ],
   "source": [
    "id(c)"
   ]
  },
  {
   "cell_type": "code",
   "execution_count": 17,
   "id": "2483f720-5689-473c-8606-3698b4a0dc47",
   "metadata": {},
   "outputs": [],
   "source": [
    "#Camel case\n",
    "myvariable = \"john\"\n",
    "#Pascal case\n",
    "Myvariable = \"john\"\n",
    "#snake case\n",
    "my_variable = \"john\""
   ]
  },
  {
   "cell_type": "code",
   "execution_count": null,
   "id": "aa16a854-3381-4cf5-a38c-234f908084db",
   "metadata": {},
   "outputs": [],
   "source": []
  }
 ],
 "metadata": {
  "kernelspec": {
   "display_name": "Python 3 (ipykernel)",
   "language": "python",
   "name": "python3"
  },
  "language_info": {
   "codemirror_mode": {
    "name": "ipython",
    "version": 3
   },
   "file_extension": ".py",
   "mimetype": "text/x-python",
   "name": "python",
   "nbconvert_exporter": "python",
   "pygments_lexer": "ipython3",
   "version": "3.13.5"
  }
 },
 "nbformat": 4,
 "nbformat_minor": 5
}
